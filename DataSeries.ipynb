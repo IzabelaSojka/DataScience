{
 "cells": [
  {
   "cell_type": "code",
   "execution_count": 1,
   "id": "5b170c99",
   "metadata": {},
   "outputs": [],
   "source": [
    "import pandas as pd\n",
    "import numpy as np\n",
    "import matplotlib.pyplot as plt\n",
    "import math as math\n",
    "import random as rnd"
   ]
  },
  {
   "cell_type": "code",
   "execution_count": 2,
   "id": "35380362",
   "metadata": {},
   "outputs": [
    {
     "data": {
      "text/plain": [
       "['London', 'Berlin', 'Warsaw', 'Paris']"
      ]
     },
     "execution_count": 2,
     "metadata": {},
     "output_type": "execute_result"
    }
   ],
   "source": [
    "cities=['London','Berlin','Warsaw','Paris']\n",
    "cities"
   ]
  },
  {
   "cell_type": "code",
   "execution_count": 3,
   "id": "5b7c5ede",
   "metadata": {},
   "outputs": [
    {
     "data": {
      "text/plain": [
       "0    London\n",
       "1    Berlin\n",
       "2    Warsaw\n",
       "3     Paris\n",
       "dtype: object"
      ]
     },
     "execution_count": 3,
     "metadata": {},
     "output_type": "execute_result"
    }
   ],
   "source": [
    "pd.Series(cities)"
   ]
  },
  {
   "cell_type": "markdown",
   "id": "b63541aa",
   "metadata": {},
   "source": [
    "# Zadania 1"
   ]
  },
  {
   "cell_type": "code",
   "execution_count": 4,
   "id": "77938233",
   "metadata": {},
   "outputs": [
    {
     "data": {
      "text/plain": [
       "0       Monday\n",
       "1      Tuesday\n",
       "2    Wednesday\n",
       "3     Thursday\n",
       "4       Friday\n",
       "5     Saturday\n",
       "6       Sunday\n",
       "dtype: object"
      ]
     },
     "execution_count": 4,
     "metadata": {},
     "output_type": "execute_result"
    }
   ],
   "source": [
    "weekdays=['Monday','Tuesday','Wednesday','Thursday','Friday','Saturday','Sunday']\n",
    "weekdaysSeries=pd.Series(weekdays)\n",
    "weekdaysSeries"
   ]
  },
  {
   "cell_type": "code",
   "execution_count": 5,
   "id": "a5ac4ed8",
   "metadata": {},
   "outputs": [
    {
     "data": {
      "text/plain": [
       "0    False\n",
       "1    False\n",
       "2    False\n",
       "3    False\n",
       "4    False\n",
       "5     True\n",
       "6     True\n",
       "dtype: bool"
      ]
     },
     "execution_count": 5,
     "metadata": {},
     "output_type": "execute_result"
    }
   ],
   "source": [
    "freeDays=[False,False,False,False,False,True,True]\n",
    "freeDaysSeries=pd.Series(freeDays)\n",
    "freeDaysSeries"
   ]
  },
  {
   "cell_type": "code",
   "execution_count": 6,
   "id": "1e68e3d0",
   "metadata": {},
   "outputs": [
    {
     "data": {
      "text/plain": [
       "New Year    2022-01-01\n",
       "Epiphany    2022-01-06\n",
       "Easter      2022-04-01\n",
       "dtype: object"
      ]
     },
     "execution_count": 6,
     "metadata": {},
     "output_type": "execute_result"
    }
   ],
   "source": [
    "holidays={'New Year': '2022-01-01',\n",
    "         'Epiphany': '2022-01-06',\n",
    "         'Easter': '2022-04-01'}\n",
    "holidaysSeries=pd.Series(holidays)\n",
    "holidaysSeries"
   ]
  },
  {
   "cell_type": "markdown",
   "id": "88685329",
   "metadata": {},
   "source": [
    "# Zadanie 2"
   ]
  },
  {
   "cell_type": "code",
   "execution_count": 7,
   "id": "a674dc11",
   "metadata": {},
   "outputs": [],
   "source": [
    "dataAsFloatList = []\n",
    "for i in range(100000):\n",
    "    dataAsFloatList.append(i*rnd.random())\n",
    "dataAsFloatSeries = pd.Series(dataAsFloatList)"
   ]
  },
  {
   "cell_type": "code",
   "execution_count": 8,
   "id": "f24ce2f1",
   "metadata": {},
   "outputs": [
    {
     "data": {
      "text/plain": [
       "100000"
      ]
     },
     "execution_count": 8,
     "metadata": {},
     "output_type": "execute_result"
    }
   ],
   "source": [
    "dataAsFloatSeries.size"
   ]
  },
  {
   "cell_type": "code",
   "execution_count": 9,
   "id": "f27344f8",
   "metadata": {},
   "outputs": [
    {
     "data": {
      "text/plain": [
       "800000"
      ]
     },
     "execution_count": 9,
     "metadata": {},
     "output_type": "execute_result"
    }
   ],
   "source": [
    "dataAsFloatSeries.nbytes"
   ]
  },
  {
   "cell_type": "code",
   "execution_count": 10,
   "id": "16b598fe",
   "metadata": {},
   "outputs": [
    {
     "data": {
      "text/plain": [
       "(100000,)"
      ]
     },
     "execution_count": 10,
     "metadata": {},
     "output_type": "execute_result"
    }
   ],
   "source": [
    "dataAsFloatSeries.shape"
   ]
  },
  {
   "cell_type": "code",
   "execution_count": 11,
   "id": "ee05446c",
   "metadata": {},
   "outputs": [
    {
     "data": {
      "text/plain": [
       "[RangeIndex(start=0, stop=100000, step=1)]"
      ]
     },
     "execution_count": 11,
     "metadata": {},
     "output_type": "execute_result"
    }
   ],
   "source": [
    "dataAsFloatSeries.axes"
   ]
  },
  {
   "cell_type": "code",
   "execution_count": 12,
   "id": "5c117277",
   "metadata": {},
   "outputs": [
    {
     "data": {
      "text/plain": [
       "dtype('float64')"
      ]
     },
     "execution_count": 12,
     "metadata": {},
     "output_type": "execute_result"
    }
   ],
   "source": [
    "dataAsFloatSeries.dtype"
   ]
  },
  {
   "cell_type": "code",
   "execution_count": 13,
   "id": "8126fefd",
   "metadata": {},
   "outputs": [
    {
     "data": {
      "text/plain": [
       "RangeIndex(start=0, stop=100000, step=1)"
      ]
     },
     "execution_count": 13,
     "metadata": {},
     "output_type": "execute_result"
    }
   ],
   "source": [
    "dataAsFloatSeries.index"
   ]
  },
  {
   "cell_type": "code",
   "execution_count": 14,
   "id": "4db2099b",
   "metadata": {},
   "outputs": [
    {
     "data": {
      "text/plain": [
       "True"
      ]
     },
     "execution_count": 14,
     "metadata": {},
     "output_type": "execute_result"
    }
   ],
   "source": [
    "dataAsFloatSeries.is_unique"
   ]
  },
  {
   "cell_type": "code",
   "execution_count": 15,
   "id": "c8df5b55",
   "metadata": {},
   "outputs": [
    {
     "data": {
      "text/plain": [
       "False"
      ]
     },
     "execution_count": 15,
     "metadata": {},
     "output_type": "execute_result"
    }
   ],
   "source": [
    "dataAsFloatSeries.is_monotonic"
   ]
  },
  {
   "cell_type": "code",
   "execution_count": 16,
   "id": "aea4a94a",
   "metadata": {},
   "outputs": [],
   "source": [
    "dataAsStringList = []\n",
    "for i in range(100000):\n",
    "    dataAsStringList.append(str(i*rnd.random()))\n",
    "dataAsStringSeries = pd.Series(dataAsStringList)"
   ]
  },
  {
   "cell_type": "code",
   "execution_count": 17,
   "id": "ee9fd745",
   "metadata": {},
   "outputs": [
    {
     "data": {
      "text/plain": [
       "100000"
      ]
     },
     "execution_count": 17,
     "metadata": {},
     "output_type": "execute_result"
    }
   ],
   "source": [
    "dataAsStringSeries.size"
   ]
  },
  {
   "cell_type": "code",
   "execution_count": 18,
   "id": "fcad1dbd",
   "metadata": {},
   "outputs": [
    {
     "data": {
      "text/plain": [
       "800000"
      ]
     },
     "execution_count": 18,
     "metadata": {},
     "output_type": "execute_result"
    }
   ],
   "source": [
    "dataAsStringSeries.nbytes"
   ]
  },
  {
   "cell_type": "code",
   "execution_count": 19,
   "id": "da5e4c86",
   "metadata": {},
   "outputs": [
    {
     "data": {
      "text/plain": [
       "dtype('O')"
      ]
     },
     "execution_count": 19,
     "metadata": {},
     "output_type": "execute_result"
    }
   ],
   "source": [
    "dataAsStringSeries.dtype"
   ]
  },
  {
   "cell_type": "markdown",
   "id": "1e99b4a9",
   "metadata": {},
   "source": [
    "# Zadanie 3"
   ]
  },
  {
   "cell_type": "code",
   "execution_count": 20,
   "id": "e81d11ef",
   "metadata": {},
   "outputs": [
    {
     "data": {
      "text/plain": [
       "Shanghai    24183300\n",
       "Beijing     20794100\n",
       "Istanbul    15030000\n",
       "dtype: int64"
      ]
     },
     "execution_count": 20,
     "metadata": {},
     "output_type": "execute_result"
    }
   ],
   "source": [
    "cities=['Shanghai','Beijing','Istanbul']\n",
    "population=[24183300,20794100,15030000]\n",
    "citypop=pd.Series(population,cities)\n",
    "citypop"
   ]
  },
  {
   "cell_type": "code",
   "execution_count": 21,
   "id": "581ab531",
   "metadata": {},
   "outputs": [
    {
     "data": {
      "text/plain": [
       "Shanghai    24183300\n",
       "Beijing     20794100\n",
       "Istanbul    15030000\n",
       "dtype: int64"
      ]
     },
     "execution_count": 21,
     "metadata": {},
     "output_type": "execute_result"
    }
   ],
   "source": [
    "citypop=pd.Series(data=population, index=cities)\n",
    "citypop"
   ]
  },
  {
   "cell_type": "code",
   "execution_count": 22,
   "id": "304c3fc1",
   "metadata": {},
   "outputs": [
    {
     "data": {
      "text/plain": [
       "60007400"
      ]
     },
     "execution_count": 22,
     "metadata": {},
     "output_type": "execute_result"
    }
   ],
   "source": [
    "citypop.sum()"
   ]
  },
  {
   "cell_type": "code",
   "execution_count": 23,
   "id": "d6360571",
   "metadata": {},
   "outputs": [
    {
     "data": {
      "text/plain": [
       "20002466.666666668"
      ]
     },
     "execution_count": 23,
     "metadata": {},
     "output_type": "execute_result"
    }
   ],
   "source": [
    "citypop.mean()"
   ]
  },
  {
   "cell_type": "code",
   "execution_count": 24,
   "id": "c82aa813",
   "metadata": {},
   "outputs": [
    {
     "data": {
      "text/plain": [
       "Index(['Shanghai', 'Beijing', 'Istanbul'], dtype='object')"
      ]
     },
     "execution_count": 24,
     "metadata": {},
     "output_type": "execute_result"
    }
   ],
   "source": [
    "citypop.keys()"
   ]
  },
  {
   "cell_type": "code",
   "execution_count": 25,
   "id": "a4df5843",
   "metadata": {},
   "outputs": [
    {
     "data": {
      "text/plain": [
       "Index(['Shanghai', 'Beijing', 'Istanbul'], dtype='object')"
      ]
     },
     "execution_count": 25,
     "metadata": {},
     "output_type": "execute_result"
    }
   ],
   "source": [
    "citypop.index"
   ]
  },
  {
   "cell_type": "code",
   "execution_count": 26,
   "id": "8453a8a4",
   "metadata": {},
   "outputs": [
    {
     "data": {
      "text/plain": [
       "array([24183300, 20794100, 15030000], dtype=int64)"
      ]
     },
     "execution_count": 26,
     "metadata": {},
     "output_type": "execute_result"
    }
   ],
   "source": [
    "citypop.values"
   ]
  },
  {
   "cell_type": "markdown",
   "id": "14757bbe",
   "metadata": {},
   "source": [
    "# Zadanie 4"
   ]
  },
  {
   "cell_type": "code",
   "execution_count": 27,
   "id": "f9c1c7e6",
   "metadata": {},
   "outputs": [],
   "source": [
    "wiek=['do 6','7-14','15-17','18-24','25-39','40-59','60 i wiecej']\n",
    "liczba=[14,334,312,5823,9491,7586,4343]\n",
    "incidens=pd.Series(liczba,wiek)"
   ]
  },
  {
   "cell_type": "code",
   "execution_count": 28,
   "id": "dc753387",
   "metadata": {},
   "outputs": [
    {
     "data": {
      "text/plain": [
       "do 6              NaN\n",
       "7-14              NaN\n",
       "15-17             NaN\n",
       "18-24          5823.0\n",
       "25-39          9491.0\n",
       "40-59          7586.0\n",
       "60 i wiecej    4343.0\n",
       "dtype: float64"
      ]
     },
     "execution_count": 28,
     "metadata": {},
     "output_type": "execute_result"
    }
   ],
   "source": [
    "incidens.where(incidens>1000)"
   ]
  },
  {
   "cell_type": "code",
   "execution_count": 29,
   "id": "8ff9040a",
   "metadata": {},
   "outputs": [
    {
     "data": {
      "text/plain": [
       "18-24          5823.0\n",
       "25-39          9491.0\n",
       "40-59          7586.0\n",
       "60 i wiecej    4343.0\n",
       "dtype: float64"
      ]
     },
     "execution_count": 29,
     "metadata": {},
     "output_type": "execute_result"
    }
   ],
   "source": [
    "incidens.where(incidens>1000).dropna()"
   ]
  },
  {
   "cell_type": "code",
   "execution_count": 30,
   "id": "e5950068",
   "metadata": {},
   "outputs": [
    {
     "data": {
      "text/plain": [
       "18-24          5823.0\n",
       "25-39          9491.0\n",
       "40-59          7586.0\n",
       "60 i wiecej    4343.0\n",
       "dtype: float64"
      ]
     },
     "execution_count": 30,
     "metadata": {},
     "output_type": "execute_result"
    }
   ],
   "source": [
    "incident1000=incidens.where(incidens>1000).dropna()\n",
    "incident1000"
   ]
  },
  {
   "cell_type": "code",
   "execution_count": 31,
   "id": "bdf17b6e",
   "metadata": {},
   "outputs": [
    {
     "data": {
      "text/plain": [
       "do 6             14\n",
       "7-14            334\n",
       "15-17           312\n",
       "18-24          5823\n",
       "25-39          9491\n",
       "40-59          7586\n",
       "60 i wiecej    4343\n",
       "dtype: int64"
      ]
     },
     "execution_count": 31,
     "metadata": {},
     "output_type": "execute_result"
    }
   ],
   "source": [
    "incidens"
   ]
  },
  {
   "cell_type": "code",
   "execution_count": 32,
   "id": "699d3a66",
   "metadata": {},
   "outputs": [
    {
     "data": {
      "text/plain": [
       "18-24    5823\n",
       "25-39    9491\n",
       "40-59    7586\n",
       "dtype: int64"
      ]
     },
     "execution_count": 32,
     "metadata": {},
     "output_type": "execute_result"
    }
   ],
   "source": [
    "incidens.filter(items=[\"18-24\", \"25-39\", \"40-59\"])"
   ]
  },
  {
   "cell_type": "code",
   "execution_count": 33,
   "id": "bcc59eb8",
   "metadata": {},
   "outputs": [
    {
     "data": {
      "text/plain": [
       "do 6      14.0\n",
       "7-14     334.0\n",
       "15-17    312.0\n",
       "dtype: float64"
      ]
     },
     "execution_count": 33,
     "metadata": {},
     "output_type": "execute_result"
    }
   ],
   "source": [
    "incidens.where(incidens <= 1000, inplace = True)\n",
    "incidens.dropna(inplace=True)\n",
    "incidens"
   ]
  },
  {
   "cell_type": "markdown",
   "id": "f0c82a0f",
   "metadata": {},
   "source": [
    "# Zadanie 5"
   ]
  },
  {
   "cell_type": "code",
   "execution_count": 34,
   "id": "a01e2db0",
   "metadata": {},
   "outputs": [],
   "source": [
    "namesList = ['Albania','Austria','Belarus','Belgium','Bulgaria','Croatia','Cyprus','Czech Republic','Denmark','Estonia','Finland','France','Germany','Greece'\n",
    "'Hungary','Iceland','Ireland','Italy','Latvia','Lithuania','Luxembourg','Macedonia','Malta','Montenegro','Netherlands','Norway','Poland','Portugal'\n",
    "'Romania','Russia','Serbia','Slovenia','Spain','Sweden','Switzerland','United Kingdom','Turkey','Ukraine']\n",
    "namesSeries = pd.Series(namesList)"
   ]
  },
  {
   "cell_type": "code",
   "execution_count": 35,
   "id": "ab712ec8",
   "metadata": {},
   "outputs": [],
   "source": [
    "energy2010List = [1947,8347,3564,8369,4560,3814,4623,6348,6328,6506,16483,7736,7264,5318,3876,51440,5911,5494,3230,3471,16830,3521,4171,5420,\n",
    "7010,24891,3797,4959,2551,6410,4359,6521,5707,14934,8175,2498,3550,5701]\n",
    "energy2010Series = pd.Series(energy2010List)\n"
   ]
  },
  {
   "cell_type": "code",
   "execution_count": 36,
   "id": "039ac0d7",
   "metadata": {},
   "outputs": [],
   "source": [
    "energy2012List = [2118,8507,3698,7987,4762,3819,4057,6305,6039,6689,15687,7344,7270,5511,3919,53203,5665,5398,3588,3608,14696,3626,4761,5416,\n",
    "6871,23658,3899,4736,2604,6617,4387,6778,5573,14290,7886,2794,3641,5452]\n",
    "energy2012Series = pd.Series(energy2012List)"
   ]
  },
  {
   "cell_type": "code",
   "execution_count": 37,
   "id": "babb3799",
   "metadata": {},
   "outputs": [
    {
     "data": {
      "text/plain": [
       "7779.8421052631575"
      ]
     },
     "execution_count": 37,
     "metadata": {},
     "output_type": "execute_result"
    }
   ],
   "source": [
    "mean2010=energy2010Series.mean()\n",
    "mean2010"
   ]
  },
  {
   "cell_type": "code",
   "execution_count": 38,
   "id": "d7c68f1a",
   "metadata": {},
   "outputs": [
    {
     "data": {
      "text/plain": [
       "7706.815789473684"
      ]
     },
     "execution_count": 38,
     "metadata": {},
     "output_type": "execute_result"
    }
   ],
   "source": [
    "mean2012=energy2012Series.mean()\n",
    "mean2012"
   ]
  },
  {
   "cell_type": "code",
   "execution_count": 39,
   "id": "73cc986e",
   "metadata": {},
   "outputs": [
    {
     "data": {
      "text/plain": [
       "0     False\n",
       "1      True\n",
       "2     False\n",
       "3      True\n",
       "4     False\n",
       "5     False\n",
       "6     False\n",
       "7     False\n",
       "8     False\n",
       "9     False\n",
       "10     True\n",
       "11    False\n",
       "12    False\n",
       "13    False\n",
       "14    False\n",
       "15     True\n",
       "16    False\n",
       "17    False\n",
       "18    False\n",
       "19    False\n",
       "20     True\n",
       "21    False\n",
       "22    False\n",
       "23    False\n",
       "24    False\n",
       "25     True\n",
       "26    False\n",
       "27    False\n",
       "28    False\n",
       "29    False\n",
       "30    False\n",
       "31    False\n",
       "32    False\n",
       "33     True\n",
       "34     True\n",
       "35    False\n",
       "36    False\n",
       "37    False\n",
       "dtype: bool"
      ]
     },
     "execution_count": 39,
     "metadata": {},
     "output_type": "execute_result"
    }
   ],
   "source": [
    "filterAboveMean2010=energy2010Series>mean2010\n",
    "filterAboveMean2010"
   ]
  },
  {
   "cell_type": "code",
   "execution_count": 40,
   "id": "f3469f33",
   "metadata": {},
   "outputs": [
    {
     "data": {
      "text/plain": [
       "0     False\n",
       "1      True\n",
       "2     False\n",
       "3      True\n",
       "4     False\n",
       "5     False\n",
       "6     False\n",
       "7     False\n",
       "8     False\n",
       "9     False\n",
       "10     True\n",
       "11    False\n",
       "12    False\n",
       "13    False\n",
       "14    False\n",
       "15     True\n",
       "16    False\n",
       "17    False\n",
       "18    False\n",
       "19    False\n",
       "20     True\n",
       "21    False\n",
       "22    False\n",
       "23    False\n",
       "24    False\n",
       "25     True\n",
       "26    False\n",
       "27    False\n",
       "28    False\n",
       "29    False\n",
       "30    False\n",
       "31    False\n",
       "32    False\n",
       "33     True\n",
       "34     True\n",
       "35    False\n",
       "36    False\n",
       "37    False\n",
       "dtype: bool"
      ]
     },
     "execution_count": 40,
     "metadata": {},
     "output_type": "execute_result"
    }
   ],
   "source": [
    "filterAboveMean2012=energy2012Series>mean2012\n",
    "filterAboveMean2012"
   ]
  },
  {
   "cell_type": "code",
   "execution_count": 41,
   "id": "15613a65",
   "metadata": {},
   "outputs": [
    {
     "data": {
      "text/plain": [
       "1            Austria\n",
       "3            Belgium\n",
       "10           Finland\n",
       "15           Ireland\n",
       "20         Macedonia\n",
       "25            Poland\n",
       "33    United Kingdom\n",
       "34            Turkey\n",
       "dtype: object"
      ]
     },
     "execution_count": 41,
     "metadata": {},
     "output_type": "execute_result"
    }
   ],
   "source": [
    "namesSeries.where(filterAboveMean2010 & filterAboveMean2012).dropna()"
   ]
  },
  {
   "cell_type": "code",
   "execution_count": 42,
   "id": "5e4c6b79",
   "metadata": {},
   "outputs": [
    {
     "data": {
      "text/plain": [
       "0      True\n",
       "1     False\n",
       "2      True\n",
       "3     False\n",
       "4      True\n",
       "5      True\n",
       "6      True\n",
       "7      True\n",
       "8      True\n",
       "9      True\n",
       "10    False\n",
       "11     True\n",
       "12     True\n",
       "13     True\n",
       "14     True\n",
       "15    False\n",
       "16     True\n",
       "17     True\n",
       "18     True\n",
       "19     True\n",
       "20    False\n",
       "21     True\n",
       "22     True\n",
       "23     True\n",
       "24     True\n",
       "25    False\n",
       "26     True\n",
       "27     True\n",
       "28     True\n",
       "29     True\n",
       "30     True\n",
       "31     True\n",
       "32     True\n",
       "33    False\n",
       "34    False\n",
       "35     True\n",
       "36     True\n",
       "37     True\n",
       "dtype: bool"
      ]
     },
     "execution_count": 42,
     "metadata": {},
     "output_type": "execute_result"
    }
   ],
   "source": [
    "filterBelowMean2010=energy2010Series<mean2010\n",
    "filterBelowMean2010"
   ]
  },
  {
   "cell_type": "code",
   "execution_count": 43,
   "id": "3a9ad21e",
   "metadata": {},
   "outputs": [
    {
     "data": {
      "text/plain": [
       "Series([], dtype: object)"
      ]
     },
     "execution_count": 43,
     "metadata": {},
     "output_type": "execute_result"
    }
   ],
   "source": [
    "namesSeries.where(filterAboveMean2012 & filterBelowMean2010).dropna()"
   ]
  },
  {
   "cell_type": "markdown",
   "id": "75ef6f00",
   "metadata": {},
   "source": [
    "# Zadanie 6"
   ]
  },
  {
   "cell_type": "code",
   "execution_count": 44,
   "id": "0a58adec",
   "metadata": {},
   "outputs": [
    {
     "data": {
      "text/plain": [
       "pandas.core.frame.DataFrame"
      ]
     },
     "execution_count": 44,
     "metadata": {},
     "output_type": "execute_result"
    }
   ],
   "source": [
    "obj=pd.read_csv('./course-files/pokemon.csv')\n",
    "type(obj)"
   ]
  },
  {
   "cell_type": "code",
   "execution_count": 45,
   "id": "5857b68b",
   "metadata": {},
   "outputs": [
    {
     "data": {
      "text/plain": [
       "pandas.core.series.Series"
      ]
     },
     "execution_count": 45,
     "metadata": {},
     "output_type": "execute_result"
    }
   ],
   "source": [
    "obj=pd.read_csv('./course-files/pokemon.csv',usecols=['Name'],squeeze=True)\n",
    "type(obj)"
   ]
  },
  {
   "cell_type": "code",
   "execution_count": 46,
   "id": "2a2e68bf",
   "metadata": {},
   "outputs": [
    {
     "data": {
      "text/html": [
       "<div>\n",
       "<style scoped>\n",
       "    .dataframe tbody tr th:only-of-type {\n",
       "        vertical-align: middle;\n",
       "    }\n",
       "\n",
       "    .dataframe tbody tr th {\n",
       "        vertical-align: top;\n",
       "    }\n",
       "\n",
       "    .dataframe thead th {\n",
       "        text-align: right;\n",
       "    }\n",
       "</style>\n",
       "<table border=\"1\" class=\"dataframe\">\n",
       "  <thead>\n",
       "    <tr style=\"text-align: right;\">\n",
       "      <th></th>\n",
       "      <th>FormalEducation</th>\n",
       "    </tr>\n",
       "  </thead>\n",
       "  <tbody>\n",
       "    <tr>\n",
       "      <th>0</th>\n",
       "      <td>Secondary school</td>\n",
       "    </tr>\n",
       "    <tr>\n",
       "      <th>1</th>\n",
       "      <td>Some college/university study without earning ...</td>\n",
       "    </tr>\n",
       "    <tr>\n",
       "      <th>2</th>\n",
       "      <td>Bachelor's degree</td>\n",
       "    </tr>\n",
       "    <tr>\n",
       "      <th>3</th>\n",
       "      <td>Doctoral degree</td>\n",
       "    </tr>\n",
       "    <tr>\n",
       "      <th>4</th>\n",
       "      <td>Master's degree</td>\n",
       "    </tr>\n",
       "    <tr>\n",
       "      <th>...</th>\n",
       "      <td>...</td>\n",
       "    </tr>\n",
       "    <tr>\n",
       "      <th>51387</th>\n",
       "      <td>Bachelor's degree</td>\n",
       "    </tr>\n",
       "    <tr>\n",
       "      <th>51388</th>\n",
       "      <td>Master's degree</td>\n",
       "    </tr>\n",
       "    <tr>\n",
       "      <th>51389</th>\n",
       "      <td>Some college/university study without earning ...</td>\n",
       "    </tr>\n",
       "    <tr>\n",
       "      <th>51390</th>\n",
       "      <td>Bachelor's degree</td>\n",
       "    </tr>\n",
       "    <tr>\n",
       "      <th>51391</th>\n",
       "      <td>Bachelor's degree</td>\n",
       "    </tr>\n",
       "  </tbody>\n",
       "</table>\n",
       "<p>51392 rows × 1 columns</p>\n",
       "</div>"
      ],
      "text/plain": [
       "                                         FormalEducation\n",
       "0                                       Secondary school\n",
       "1      Some college/university study without earning ...\n",
       "2                                      Bachelor's degree\n",
       "3                                        Doctoral degree\n",
       "4                                        Master's degree\n",
       "...                                                  ...\n",
       "51387                                  Bachelor's degree\n",
       "51388                                    Master's degree\n",
       "51389  Some college/university study without earning ...\n",
       "51390                                  Bachelor's degree\n",
       "51391                                  Bachelor's degree\n",
       "\n",
       "[51392 rows x 1 columns]"
      ]
     },
     "execution_count": 46,
     "metadata": {},
     "output_type": "execute_result"
    }
   ],
   "source": [
    "education = pd.read_csv('./course-files/StackOverflowDeveloperSurvey.csv',usecols=['FormalEducation'])\n",
    "education"
   ]
  },
  {
   "cell_type": "code",
   "execution_count": 47,
   "id": "dcfbd7a9",
   "metadata": {},
   "outputs": [
    {
     "data": {
      "text/html": [
       "<div>\n",
       "<style scoped>\n",
       "    .dataframe tbody tr th:only-of-type {\n",
       "        vertical-align: middle;\n",
       "    }\n",
       "\n",
       "    .dataframe tbody tr th {\n",
       "        vertical-align: top;\n",
       "    }\n",
       "\n",
       "    .dataframe thead th {\n",
       "        text-align: right;\n",
       "    }\n",
       "</style>\n",
       "<table border=\"1\" class=\"dataframe\">\n",
       "  <thead>\n",
       "    <tr style=\"text-align: right;\">\n",
       "      <th></th>\n",
       "      <th>FormalEducation</th>\n",
       "    </tr>\n",
       "  </thead>\n",
       "  <tbody>\n",
       "    <tr>\n",
       "      <th>0</th>\n",
       "      <td>Secondary school</td>\n",
       "    </tr>\n",
       "    <tr>\n",
       "      <th>1</th>\n",
       "      <td>Some college/university study without earning ...</td>\n",
       "    </tr>\n",
       "    <tr>\n",
       "      <th>2</th>\n",
       "      <td>Bachelor's degree</td>\n",
       "    </tr>\n",
       "    <tr>\n",
       "      <th>3</th>\n",
       "      <td>Doctoral degree</td>\n",
       "    </tr>\n",
       "    <tr>\n",
       "      <th>4</th>\n",
       "      <td>Master's degree</td>\n",
       "    </tr>\n",
       "  </tbody>\n",
       "</table>\n",
       "</div>"
      ],
      "text/plain": [
       "                                     FormalEducation\n",
       "0                                   Secondary school\n",
       "1  Some college/university study without earning ...\n",
       "2                                  Bachelor's degree\n",
       "3                                    Doctoral degree\n",
       "4                                    Master's degree"
      ]
     },
     "execution_count": 47,
     "metadata": {},
     "output_type": "execute_result"
    }
   ],
   "source": [
    "education.head()"
   ]
  },
  {
   "cell_type": "code",
   "execution_count": 48,
   "id": "731e7482",
   "metadata": {},
   "outputs": [
    {
     "data": {
      "text/plain": [
       "0                                         Secondary school\n",
       "1        Some college/university study without earning ...\n",
       "2                                        Bachelor's degree\n",
       "3                                          Doctoral degree\n",
       "4                                          Master's degree\n",
       "                               ...                        \n",
       "51387                                    Bachelor's degree\n",
       "51388                                      Master's degree\n",
       "51389    Some college/university study without earning ...\n",
       "51390                                    Bachelor's degree\n",
       "51391                                    Bachelor's degree\n",
       "Name: FormalEducation, Length: 51392, dtype: object"
      ]
     },
     "execution_count": 48,
     "metadata": {},
     "output_type": "execute_result"
    }
   ],
   "source": [
    "education = pd.read_csv('./course-files/StackOverflowDeveloperSurvey.csv',usecols=['FormalEducation'],squeeze=True)\n",
    "education"
   ]
  },
  {
   "cell_type": "code",
   "execution_count": 49,
   "id": "ec112652",
   "metadata": {},
   "outputs": [
    {
     "data": {
      "text/plain": [
       "pandas.core.series.Series"
      ]
     },
     "execution_count": 49,
     "metadata": {},
     "output_type": "execute_result"
    }
   ],
   "source": [
    "type(education)"
   ]
  },
  {
   "cell_type": "code",
   "execution_count": 50,
   "id": "75bf8fc0",
   "metadata": {},
   "outputs": [
    {
     "data": {
      "text/plain": [
       "51382                                      Master's degree\n",
       "51383               I never completed any formal education\n",
       "51384                                    Bachelor's degree\n",
       "51385                                      Master's degree\n",
       "51386    Some college/university study without earning ...\n",
       "51387                                    Bachelor's degree\n",
       "51388                                      Master's degree\n",
       "51389    Some college/university study without earning ...\n",
       "51390                                    Bachelor's degree\n",
       "51391                                    Bachelor's degree\n",
       "Name: FormalEducation, dtype: object"
      ]
     },
     "execution_count": 50,
     "metadata": {},
     "output_type": "execute_result"
    }
   ],
   "source": [
    "education.tail(10)"
   ]
  },
  {
   "cell_type": "code",
   "execution_count": 51,
   "id": "87c779cb",
   "metadata": {},
   "outputs": [],
   "source": [
    "allinfo = pd.read_csv('./course-files/StackOverflowDeveloperSurvey.csv')"
   ]
  },
  {
   "cell_type": "code",
   "execution_count": 52,
   "id": "ded03010",
   "metadata": {},
   "outputs": [],
   "source": [
    "country = allinfo['Country']"
   ]
  },
  {
   "cell_type": "code",
   "execution_count": 53,
   "id": "ade03e52",
   "metadata": {},
   "outputs": [
    {
     "data": {
      "text/plain": [
       "0     United States\n",
       "1    United Kingdom\n",
       "2    United Kingdom\n",
       "3     United States\n",
       "4       Switzerland\n",
       "Name: Country, dtype: object"
      ]
     },
     "execution_count": 53,
     "metadata": {},
     "output_type": "execute_result"
    }
   ],
   "source": [
    "country.head()"
   ]
  },
  {
   "cell_type": "code",
   "execution_count": 54,
   "id": "71bab221",
   "metadata": {},
   "outputs": [
    {
     "data": {
      "text/plain": [
       "0     True\n",
       "1    False\n",
       "2    False\n",
       "3     True\n",
       "4    False\n",
       "Name: Country, dtype: bool"
      ]
     },
     "execution_count": 54,
     "metadata": {},
     "output_type": "execute_result"
    }
   ],
   "source": [
    "filterOnlyUSA =country==\"United States\"\n",
    "filterOnlyUSA.head()"
   ]
  },
  {
   "cell_type": "code",
   "execution_count": 55,
   "id": "817eea0f",
   "metadata": {},
   "outputs": [
    {
     "data": {
      "text/plain": [
       "0              Secondary school\n",
       "3               Doctoral degree\n",
       "6               Master's degree\n",
       "10            Bachelor's degree\n",
       "15    Primary/elementary school\n",
       "17            Bachelor's degree\n",
       "18            Bachelor's degree\n",
       "25              Master's degree\n",
       "27            Bachelor's degree\n",
       "29            Bachelor's degree\n",
       "Name: FormalEducation, dtype: object"
      ]
     },
     "execution_count": 55,
     "metadata": {},
     "output_type": "execute_result"
    }
   ],
   "source": [
    "education.where(filterOnlyUSA).dropna().head(10)"
   ]
  },
  {
   "cell_type": "markdown",
   "id": "06b72394",
   "metadata": {},
   "source": [
    "# Zadanie 7"
   ]
  },
  {
   "cell_type": "code",
   "execution_count": 56,
   "id": "2c89b0af",
   "metadata": {},
   "outputs": [
    {
     "data": {
      "text/plain": [
       "2     113750.0\n",
       "14    100000.0\n",
       "17    130000.0\n",
       "18     82500.0\n",
       "22    100764.0\n",
       "Name: Salary, dtype: float64"
      ]
     },
     "execution_count": 56,
     "metadata": {},
     "output_type": "execute_result"
    }
   ],
   "source": [
    "salary = pd.read_csv('./course-files/StackOverflowDeveloperSurvey.csv',usecols=['Salary'],squeeze=True).dropna()\n",
    "salary.head()"
   ]
  },
  {
   "cell_type": "code",
   "execution_count": 57,
   "id": "7df65da5",
   "metadata": {},
   "outputs": [
    {
     "data": {
      "text/plain": [
       "12891"
      ]
     },
     "execution_count": 57,
     "metadata": {},
     "output_type": "execute_result"
    }
   ],
   "source": [
    "len(salary)"
   ]
  },
  {
   "cell_type": "code",
   "execution_count": 58,
   "id": "019fff63",
   "metadata": {},
   "outputs": [
    {
     "data": {
      "text/plain": [
       "0.0"
      ]
     },
     "execution_count": 58,
     "metadata": {},
     "output_type": "execute_result"
    }
   ],
   "source": [
    "min(salary)"
   ]
  },
  {
   "cell_type": "code",
   "execution_count": 59,
   "id": "f40c45c7",
   "metadata": {},
   "outputs": [
    {
     "data": {
      "text/plain": [
       "197000.0"
      ]
     },
     "execution_count": 59,
     "metadata": {},
     "output_type": "execute_result"
    }
   ],
   "source": [
    "max(salary)"
   ]
  },
  {
   "cell_type": "code",
   "execution_count": 60,
   "id": "6f4d6597",
   "metadata": {},
   "outputs": [
    {
     "data": {
      "text/plain": [
       "[113750.0, 100000.0, 130000.0, 82500.0, 100764.0]"
      ]
     },
     "execution_count": 60,
     "metadata": {},
     "output_type": "execute_result"
    }
   ],
   "source": [
    "list(salary.head())"
   ]
  },
  {
   "cell_type": "code",
   "execution_count": 61,
   "id": "414450fa",
   "metadata": {},
   "outputs": [
    {
     "data": {
      "text/plain": [
       "{2: 113750.0, 14: 100000.0, 17: 130000.0, 18: 82500.0, 22: 100764.0}"
      ]
     },
     "execution_count": 61,
     "metadata": {},
     "output_type": "execute_result"
    }
   ],
   "source": [
    "dict(salary.head())"
   ]
  },
  {
   "cell_type": "code",
   "execution_count": 62,
   "id": "392753d1",
   "metadata": {},
   "outputs": [],
   "source": [
    "listSalarySorted = sorted(salary,reverse=True)"
   ]
  },
  {
   "cell_type": "code",
   "execution_count": 63,
   "id": "771cbefb",
   "metadata": {},
   "outputs": [
    {
     "data": {
      "text/plain": [
       "[197000.0, 195000.0, 195000.0, 195000.0, 195000.0]"
      ]
     },
     "execution_count": 63,
     "metadata": {},
     "output_type": "execute_result"
    }
   ],
   "source": [
    "listSalarySorted[:5]"
   ]
  },
  {
   "cell_type": "code",
   "execution_count": 64,
   "id": "7076d2f8",
   "metadata": {},
   "outputs": [
    {
     "data": {
      "text/plain": [
       "2     113750.0\n",
       "14    100000.0\n",
       "17    130000.0\n",
       "18     82500.0\n",
       "22    100764.0\n",
       "Name: Salary of a person, dtype: float64"
      ]
     },
     "execution_count": 64,
     "metadata": {},
     "output_type": "execute_result"
    }
   ],
   "source": [
    "salary.name='Salary of a person'\n",
    "salary.head()"
   ]
  },
  {
   "cell_type": "markdown",
   "id": "72a09e3d",
   "metadata": {},
   "source": [
    "# Zadanie 8"
   ]
  },
  {
   "cell_type": "code",
   "execution_count": 65,
   "id": "fdd907b3",
   "metadata": {},
   "outputs": [
    {
     "data": {
      "text/plain": [
       "2     113750.0\n",
       "14    100000.0\n",
       "17    130000.0\n",
       "18     82500.0\n",
       "22    100764.0\n",
       "Name: Salary, dtype: float64"
      ]
     },
     "execution_count": 65,
     "metadata": {},
     "output_type": "execute_result"
    }
   ],
   "source": [
    "salary = pd.read_csv('./course-files/StackOverflowDeveloperSurvey.csv',usecols=['Salary'],squeeze=True).dropna()\n",
    "salary.head()"
   ]
  },
  {
   "cell_type": "code",
   "execution_count": 66,
   "id": "2714ef41",
   "metadata": {},
   "outputs": [
    {
     "data": {
      "text/plain": [
       "31600    197000.0\n",
       "27943    195000.0\n",
       "6743     195000.0\n",
       "18237    195000.0\n",
       "41398    195000.0\n",
       "Name: Salary, dtype: float64"
      ]
     },
     "execution_count": 66,
     "metadata": {},
     "output_type": "execute_result"
    }
   ],
   "source": [
    "salary.sort_values(ascending=False).head()"
   ]
  },
  {
   "cell_type": "code",
   "execution_count": 67,
   "id": "d480f969",
   "metadata": {},
   "outputs": [
    {
     "data": {
      "text/plain": [
       "51144    0.0\n",
       "23953    0.0\n",
       "23907    0.0\n",
       "44841    0.0\n",
       "2951     0.0\n",
       "Name: Salary, dtype: float64"
      ]
     },
     "execution_count": 67,
     "metadata": {},
     "output_type": "execute_result"
    }
   ],
   "source": [
    "salary.sort_values().head()"
   ]
  },
  {
   "cell_type": "code",
   "execution_count": 68,
   "id": "cee3ec5e",
   "metadata": {},
   "outputs": [
    {
     "data": {
      "text/plain": [
       "31600    197000.0\n",
       "27943    195000.0\n",
       "6743     195000.0\n",
       "18237    195000.0\n",
       "41398    195000.0\n",
       "Name: Salary, dtype: float64"
      ]
     },
     "execution_count": 68,
     "metadata": {},
     "output_type": "execute_result"
    }
   ],
   "source": [
    "salary.sort_values(ascending=False, inplace=True)\n",
    "salary.head()"
   ]
  },
  {
   "cell_type": "code",
   "execution_count": 69,
   "id": "71658c2e",
   "metadata": {},
   "outputs": [
    {
     "data": {
      "text/plain": [
       "51390     40000.000000\n",
       "51387     58000.000000\n",
       "51382     32258.064516\n",
       "51378    107526.881720\n",
       "51371     74193.548387\n",
       "             ...      \n",
       "22       100764.000000\n",
       "18        82500.000000\n",
       "17       130000.000000\n",
       "14       100000.000000\n",
       "2        113750.000000\n",
       "Name: Salary, Length: 12891, dtype: float64"
      ]
     },
     "execution_count": 69,
     "metadata": {},
     "output_type": "execute_result"
    }
   ],
   "source": [
    "salary.sort_index(ascending=False)"
   ]
  },
  {
   "cell_type": "code",
   "execution_count": 70,
   "id": "18e42fba",
   "metadata": {},
   "outputs": [
    {
     "data": {
      "text/plain": [
       "31600    197000.0\n",
       "27943    195000.0\n",
       "6743     195000.0\n",
       "18237    195000.0\n",
       "41398    195000.0\n",
       "           ...   \n",
       "22488    170000.0\n",
       "41861    170000.0\n",
       "21133    170000.0\n",
       "6659     170000.0\n",
       "13235    170000.0\n",
       "Name: Salary, Length: 100, dtype: float64"
      ]
     },
     "execution_count": 70,
     "metadata": {},
     "output_type": "execute_result"
    }
   ],
   "source": [
    "maxSalaries = salary.head(100)\n",
    "maxSalaries"
   ]
  },
  {
   "cell_type": "code",
   "execution_count": 71,
   "id": "eee8000c",
   "metadata": {},
   "outputs": [
    {
     "data": {
      "text/plain": [
       "1077     200.000000\n",
       "48674    198.649186\n",
       "50569    198.208780\n",
       "33212    178.784267\n",
       "26905    176.185582\n",
       "            ...    \n",
       "44841      0.000000\n",
       "23953      0.000000\n",
       "51144      0.000000\n",
       "4517       0.000000\n",
       "2951       0.000000\n",
       "Name: Salary, Length: 100, dtype: float64"
      ]
     },
     "execution_count": 71,
     "metadata": {},
     "output_type": "execute_result"
    }
   ],
   "source": [
    "minSalaries = salary.tail(100)\n",
    "minSalaries"
   ]
  },
  {
   "cell_type": "code",
   "execution_count": 72,
   "id": "4a4de91e",
   "metadata": {},
   "outputs": [
    {
     "data": {
      "text/plain": [
       "180198.1045586777"
      ]
     },
     "execution_count": 72,
     "metadata": {},
     "output_type": "execute_result"
    }
   ],
   "source": [
    "maxMean = maxSalaries.mean()\n",
    "maxMean"
   ]
  },
  {
   "cell_type": "code",
   "execution_count": 73,
   "id": "24e5e88b",
   "metadata": {},
   "outputs": [
    {
     "data": {
      "text/plain": [
       "67.08388907133794"
      ]
     },
     "execution_count": 73,
     "metadata": {},
     "output_type": "execute_result"
    }
   ],
   "source": [
    "minMean = minSalaries.mean()\n",
    "minMean"
   ]
  },
  {
   "cell_type": "markdown",
   "id": "a57d44c0",
   "metadata": {},
   "source": [
    "# Zadanie 9"
   ]
  },
  {
   "cell_type": "code",
   "execution_count": 74,
   "id": "3ecabf98",
   "metadata": {},
   "outputs": [
    {
     "data": {
      "text/plain": [
       "0     United States\n",
       "1    United Kingdom\n",
       "2    United Kingdom\n",
       "3     United States\n",
       "4       Switzerland\n",
       "Name: Country, dtype: object"
      ]
     },
     "execution_count": 74,
     "metadata": {},
     "output_type": "execute_result"
    }
   ],
   "source": [
    "countries = pd.read_csv('./course-files/StackOverflowDeveloperSurvey.csv',usecols=['Country'],squeeze=True).dropna()\n",
    "countries.head()"
   ]
  },
  {
   "cell_type": "code",
   "execution_count": 75,
   "id": "60e66de4",
   "metadata": {},
   "outputs": [
    {
     "data": {
      "text/plain": [
       "True"
      ]
     },
     "execution_count": 75,
     "metadata": {},
     "output_type": "execute_result"
    }
   ],
   "source": [
    "'Spain' in countries.values"
   ]
  },
  {
   "cell_type": "code",
   "execution_count": 76,
   "id": "55f7f99f",
   "metadata": {},
   "outputs": [
    {
     "data": {
      "text/plain": [
       "False"
      ]
     },
     "execution_count": 76,
     "metadata": {},
     "output_type": "execute_result"
    }
   ],
   "source": [
    "'Spain' in countries"
   ]
  },
  {
   "cell_type": "code",
   "execution_count": 77,
   "id": "23e29c57",
   "metadata": {},
   "outputs": [
    {
     "data": {
      "text/plain": [
       "False"
      ]
     },
     "execution_count": 77,
     "metadata": {},
     "output_type": "execute_result"
    }
   ],
   "source": [
    "'Wonderland' in countries.values"
   ]
  },
  {
   "cell_type": "markdown",
   "id": "d5fb5bb0",
   "metadata": {},
   "source": [
    "# Zadanie 10"
   ]
  },
  {
   "cell_type": "code",
   "execution_count": 78,
   "id": "e6bf142e",
   "metadata": {},
   "outputs": [
    {
     "data": {
      "text/plain": [
       "0                         NaN\n",
       "1          20 to 99 employees\n",
       "2    10,000 or more employees\n",
       "3    10,000 or more employees\n",
       "4          10 to 19 employees\n",
       "Name: CompanySize, dtype: object"
      ]
     },
     "execution_count": 78,
     "metadata": {},
     "output_type": "execute_result"
    }
   ],
   "source": [
    "survey = pd.read_csv('./course-files/StackOverflowDeveloperSurvey.csv',usecols=['CompanySize'],squeeze=True)\n",
    "survey.head()"
   ]
  },
  {
   "cell_type": "code",
   "execution_count": 79,
   "id": "481e01eb",
   "metadata": {},
   "outputs": [
    {
     "data": {
      "text/plain": [
       "'10,000 or more employees'"
      ]
     },
     "execution_count": 79,
     "metadata": {},
     "output_type": "execute_result"
    }
   ],
   "source": [
    "survey[3]"
   ]
  },
  {
   "cell_type": "code",
   "execution_count": 80,
   "id": "b867784b",
   "metadata": {},
   "outputs": [
    {
     "data": {
      "text/plain": [
       "1           20 to 99 employees\n",
       "2     10,000 or more employees\n",
       "3     10,000 or more employees\n",
       "4           10 to 19 employees\n",
       "5                          NaN\n",
       "6           20 to 99 employees\n",
       "7      Fewer than 10 employees\n",
       "8     5,000 to 9,999 employees\n",
       "9                          NaN\n",
       "10        100 to 499 employees\n",
       "Name: CompanySize, dtype: object"
      ]
     },
     "execution_count": 80,
     "metadata": {},
     "output_type": "execute_result"
    }
   ],
   "source": [
    "survey[1:11]"
   ]
  },
  {
   "cell_type": "code",
   "execution_count": 81,
   "id": "034d142e",
   "metadata": {},
   "outputs": [
    {
     "data": {
      "text/plain": [
       "'20 to 99 employees'"
      ]
     },
     "execution_count": 81,
     "metadata": {},
     "output_type": "execute_result"
    }
   ],
   "source": [
    "survey[12345]"
   ]
  },
  {
   "cell_type": "code",
   "execution_count": 82,
   "id": "d2478a3c",
   "metadata": {},
   "outputs": [
    {
     "data": {
      "text/plain": [
       "12341                         NaN\n",
       "12342    1,000 to 4,999 employees\n",
       "12343    10,000 or more employees\n",
       "12344        100 to 499 employees\n",
       "12345          20 to 99 employees\n",
       "12346                         NaN\n",
       "12347     Fewer than 10 employees\n",
       "12348          20 to 99 employees\n",
       "12349          20 to 99 employees\n",
       "12350          20 to 99 employees\n",
       "Name: CompanySize, dtype: object"
      ]
     },
     "execution_count": 82,
     "metadata": {},
     "output_type": "execute_result"
    }
   ],
   "source": [
    "survey[12341:12351]"
   ]
  },
  {
   "cell_type": "code",
   "execution_count": 83,
   "id": "452cb967",
   "metadata": {},
   "outputs": [],
   "source": [
    "survey.sort_values(inplace=True)"
   ]
  },
  {
   "cell_type": "code",
   "execution_count": 84,
   "id": "2137ad2c",
   "metadata": {},
   "outputs": [
    {
     "data": {
      "text/plain": [
       "'10,000 or more employees'"
      ]
     },
     "execution_count": 84,
     "metadata": {},
     "output_type": "execute_result"
    }
   ],
   "source": [
    "survey[3]"
   ]
  },
  {
   "cell_type": "code",
   "execution_count": 85,
   "id": "ed1c2e91",
   "metadata": {},
   "outputs": [
    {
     "data": {
      "text/plain": [
       "'20 to 99 employees'"
      ]
     },
     "execution_count": 85,
     "metadata": {},
     "output_type": "execute_result"
    }
   ],
   "source": [
    "survey[12345]"
   ]
  },
  {
   "cell_type": "code",
   "execution_count": 86,
   "id": "2dab7ff7",
   "metadata": {},
   "outputs": [
    {
     "data": {
      "text/plain": [
       "36683    1,000 to 4,999 employees\n",
       "43105    1,000 to 4,999 employees\n",
       "43102    1,000 to 4,999 employees\n",
       "30582    1,000 to 4,999 employees\n",
       "43072    1,000 to 4,999 employees\n",
       "43063    1,000 to 4,999 employees\n",
       "23955    1,000 to 4,999 employees\n",
       "43060    1,000 to 4,999 employees\n",
       "43056    1,000 to 4,999 employees\n",
       "30558    1,000 to 4,999 employees\n",
       "Name: CompanySize, dtype: object"
      ]
     },
     "execution_count": 86,
     "metadata": {},
     "output_type": "execute_result"
    }
   ],
   "source": [
    "survey[1:11]"
   ]
  },
  {
   "cell_type": "code",
   "execution_count": 87,
   "id": "b10b26c2",
   "metadata": {},
   "outputs": [],
   "source": [
    "survey.reset_index(drop=True,inplace=True)"
   ]
  },
  {
   "cell_type": "code",
   "execution_count": 88,
   "id": "a0b0ee3e",
   "metadata": {},
   "outputs": [
    {
     "data": {
      "text/plain": [
       "'1,000 to 4,999 employees'"
      ]
     },
     "execution_count": 88,
     "metadata": {},
     "output_type": "execute_result"
    }
   ],
   "source": [
    "survey[3]"
   ]
  },
  {
   "cell_type": "code",
   "execution_count": 89,
   "id": "dedb0282",
   "metadata": {},
   "outputs": [
    {
     "data": {
      "text/plain": [
       "'10,000 or more employees'"
      ]
     },
     "execution_count": 89,
     "metadata": {},
     "output_type": "execute_result"
    }
   ],
   "source": [
    "survey[12345]"
   ]
  },
  {
   "cell_type": "code",
   "execution_count": 90,
   "id": "a12370d4",
   "metadata": {},
   "outputs": [
    {
     "data": {
      "text/plain": [
       "1     1,000 to 4,999 employees\n",
       "2     1,000 to 4,999 employees\n",
       "3     1,000 to 4,999 employees\n",
       "4     1,000 to 4,999 employees\n",
       "5     1,000 to 4,999 employees\n",
       "6     1,000 to 4,999 employees\n",
       "7     1,000 to 4,999 employees\n",
       "8     1,000 to 4,999 employees\n",
       "9     1,000 to 4,999 employees\n",
       "10    1,000 to 4,999 employees\n",
       "Name: CompanySize, dtype: object"
      ]
     },
     "execution_count": 90,
     "metadata": {},
     "output_type": "execute_result"
    }
   ],
   "source": [
    "survey[1:11]"
   ]
  },
  {
   "cell_type": "markdown",
   "id": "544fdf70",
   "metadata": {},
   "source": [
    "# Zadanie 11"
   ]
  },
  {
   "cell_type": "code",
   "execution_count": 91,
   "id": "343b4d34",
   "metadata": {},
   "outputs": [
    {
     "data": {
      "text/plain": [
       "Symbol\n",
       "AF            Afghanistan\n",
       "AL                Albania\n",
       "DZ                Algeria\n",
       "AD                Andorra\n",
       "AO                 Angola\n",
       "AI               Anguilla\n",
       "AQ             Antarctica\n",
       "AG    Antigua and Barbuda\n",
       "SA           Saudi Arabia\n",
       "AR              Argentina\n",
       "AM                Armenia\n",
       "AW                  Aruba\n",
       "AU              Australia\n",
       "AT                Austria\n",
       "AZ             Azerbaijan\n",
       "BS                Bahamas\n",
       "BH                Bahrain\n",
       "BD             Bangladesh\n",
       "BB               Barbados\n",
       "BE                Belgium\n",
       "Name: Name, dtype: object"
      ]
     },
     "execution_count": 91,
     "metadata": {},
     "output_type": "execute_result"
    }
   ],
   "source": [
    "countries = pd.read_csv(\"./course-files/countries.csv\", usecols=['Symbol','Name'],index_col='Symbol',squeeze=True)\n",
    "countries.head(20)"
   ]
  },
  {
   "cell_type": "code",
   "execution_count": 92,
   "id": "383dbda8",
   "metadata": {},
   "outputs": [
    {
     "data": {
      "text/plain": [
       "'France'"
      ]
     },
     "execution_count": 92,
     "metadata": {},
     "output_type": "execute_result"
    }
   ],
   "source": [
    "countries['FR']"
   ]
  },
  {
   "cell_type": "code",
   "execution_count": 93,
   "id": "a6d90333",
   "metadata": {},
   "outputs": [
    {
     "data": {
      "text/plain": [
       "'Austria'"
      ]
     },
     "execution_count": 93,
     "metadata": {},
     "output_type": "execute_result"
    }
   ],
   "source": [
    "countries[13]"
   ]
  },
  {
   "cell_type": "code",
   "execution_count": 102,
   "id": "59b146da",
   "metadata": {},
   "outputs": [],
   "source": [
    "nordic = ['FI','SE','NO']"
   ]
  },
  {
   "cell_type": "code",
   "execution_count": 103,
   "id": "964c8e33",
   "metadata": {},
   "outputs": [
    {
     "data": {
      "text/plain": [
       "Symbol\n",
       "FI    Finland\n",
       "SE     Sweden\n",
       "NO     Norway\n",
       "Name: Name, dtype: object"
      ]
     },
     "execution_count": 103,
     "metadata": {},
     "output_type": "execute_result"
    }
   ],
   "source": [
    "countries[nordic]"
   ]
  },
  {
   "cell_type": "markdown",
   "id": "7c1c8445",
   "metadata": {},
   "source": [
    "# Zadanie 12"
   ]
  },
  {
   "cell_type": "code",
   "execution_count": 106,
   "id": "1a2f70b8",
   "metadata": {},
   "outputs": [
    {
     "data": {
      "text/plain": [
       "Symbol\n",
       "AF            Afghanistan\n",
       "AL                Albania\n",
       "DZ                Algeria\n",
       "AD                Andorra\n",
       "AO                 Angola\n",
       "AI               Anguilla\n",
       "AQ             Antarctica\n",
       "AG    Antigua and Barbuda\n",
       "SA           Saudi Arabia\n",
       "AR              Argentina\n",
       "AM                Armenia\n",
       "AW                  Aruba\n",
       "AU              Australia\n",
       "AT                Austria\n",
       "AZ             Azerbaijan\n",
       "BS                Bahamas\n",
       "BH                Bahrain\n",
       "BD             Bangladesh\n",
       "BB               Barbados\n",
       "BE                Belgium\n",
       "Name: Name, dtype: object"
      ]
     },
     "execution_count": 106,
     "metadata": {},
     "output_type": "execute_result"
    }
   ],
   "source": [
    "countries = pd.read_csv(\"./course-files/countries.csv\", usecols=['Symbol','Name'],index_col='Symbol',squeeze=True)\n",
    "countries.dropna(inplace=True)\n",
    "countries.head(20)"
   ]
  },
  {
   "cell_type": "code",
   "execution_count": 109,
   "id": "447ccce3",
   "metadata": {},
   "outputs": [],
   "source": [
    "toFind=['BB','AA','BS']"
   ]
  },
  {
   "cell_type": "code",
   "execution_count": 114,
   "id": "b19d00d2",
   "metadata": {},
   "outputs": [
    {
     "data": {
      "text/plain": [
       "Symbol\n",
       "BB    Barbados\n",
       "AA         NaN\n",
       "BS     Bahamas\n",
       "Name: Name, dtype: object"
      ]
     },
     "execution_count": 114,
     "metadata": {},
     "output_type": "execute_result"
    }
   ],
   "source": [
    "countries.reindex(toFind)"
   ]
  },
  {
   "cell_type": "code",
   "execution_count": 115,
   "id": "15f6b6c8",
   "metadata": {},
   "outputs": [
    {
     "data": {
      "text/plain": [
       "Index(['BS', 'BB'], dtype='object', name='Symbol')"
      ]
     },
     "execution_count": 115,
     "metadata": {},
     "output_type": "execute_result"
    }
   ],
   "source": [
    "countries.index.intersection(toFind)"
   ]
  },
  {
   "cell_type": "code",
   "execution_count": 116,
   "id": "d02b3211",
   "metadata": {},
   "outputs": [
    {
     "data": {
      "text/plain": [
       "Symbol\n",
       "BS     Bahamas\n",
       "BB    Barbados\n",
       "Name: Name, dtype: object"
      ]
     },
     "execution_count": 116,
     "metadata": {},
     "output_type": "execute_result"
    }
   ],
   "source": [
    "countries.loc[countries.index.intersection(toFind)]"
   ]
  },
  {
   "cell_type": "markdown",
   "id": "cd1c2b83",
   "metadata": {},
   "source": [
    "# Zadanie 13"
   ]
  },
  {
   "cell_type": "code",
   "execution_count": 118,
   "id": "97e61fc7",
   "metadata": {},
   "outputs": [
    {
     "data": {
      "text/plain": [
       "Rank\n",
       "1                Walmart\n",
       "2     Berkshire Hathaway\n",
       "3                  Apple\n",
       "4            Exxon Mobil\n",
       "5               McKesson\n",
       "6     UnitedHealth Group\n",
       "7             CVS Health\n",
       "8         General Motors\n",
       "9                   AT&T\n",
       "10            Ford Motor\n",
       "Name: Title, dtype: object"
      ]
     },
     "execution_count": 118,
     "metadata": {},
     "output_type": "execute_result"
    }
   ],
   "source": [
    "fortune500 = pd.read_csv(\"./course-files/Fortune_500_2017.csv\", usecols=['Rank','Title'],index_col='Rank',squeeze=True)\n",
    "fortune500.head(10)"
   ]
  },
  {
   "cell_type": "code",
   "execution_count": 119,
   "id": "0588c055",
   "metadata": {},
   "outputs": [
    {
     "data": {
      "text/plain": [
       "Rank\n",
       "481           Booz Allen Hamilton Holding\n",
       "482                              Chemours\n",
       "483    Western & Southern Financial Group\n",
       "484                              Celanese\n",
       "485                   Windstream Holdings\n",
       "486                              Seaboard\n",
       "487                             Essendant\n",
       "488                                Apache\n",
       "489                                Airgas\n",
       "490                        Kelly Services\n",
       "491                         Liberty Media\n",
       "492                      Rockwell Collins\n",
       "493             Robert Half International\n",
       "494                             CH2M Hill\n",
       "495                              Big Lots\n",
       "496                         Michaels Cos.\n",
       "497                         Toll Brothers\n",
       "498                                 Yahoo\n",
       "499                         Vistra Energy\n",
       "500                        ABM Industries\n",
       "Name: Title, dtype: object"
      ]
     },
     "execution_count": 119,
     "metadata": {},
     "output_type": "execute_result"
    }
   ],
   "source": [
    "fortune500.tail(20)"
   ]
  },
  {
   "cell_type": "code",
   "execution_count": 126,
   "id": "3c0fae58",
   "metadata": {},
   "outputs": [
    {
     "data": {
      "text/plain": [
       "Title\n",
       "IBM         414400\n",
       "Alphabet     72053\n",
       "Facebook     17048\n",
       "Apple       116000\n",
       "Name: Employees, dtype: int64"
      ]
     },
     "execution_count": 126,
     "metadata": {},
     "output_type": "execute_result"
    }
   ],
   "source": [
    "fortune500 = pd.read_csv(\"./course-files/Fortune_500_2017.csv\", usecols=['Employees','Title'],index_col='Title',squeeze=True)\n",
    "fortune500[['IBM','Alphabet','Facebook','Apple']]"
   ]
  },
  {
   "cell_type": "code",
   "execution_count": 125,
   "id": "aa2616bc",
   "metadata": {},
   "outputs": [
    {
     "data": {
      "text/plain": [
       "Title\n",
       "IBM                          414400\n",
       "State Farm Insurance Cos.     68234\n",
       "Phillips 66                   14800\n",
       "Johnson & Johnson            126400\n",
       "Procter & Gamble             105000\n",
       "Valero Energy                  9996\n",
       "Target                       323000\n",
       "Freddie Mac                    5982\n",
       "Lowe’s                       240000\n",
       "Dell Technologies            138000\n",
       "MetLife                       58000\n",
       "Aetna                         49500\n",
       "PepsiCo                      264000\n",
       "Archer Daniels Midland        31800\n",
       "UPS                          335520\n",
       "Intel                        106000\n",
       "Name: Employees, dtype: int64"
      ]
     },
     "execution_count": 125,
     "metadata": {},
     "output_type": "execute_result"
    }
   ],
   "source": [
    "fortune500['IBM':'Intel']"
   ]
  },
  {
   "cell_type": "markdown",
   "id": "678a813d",
   "metadata": {},
   "source": [
    "# Zadanie 14"
   ]
  },
  {
   "cell_type": "code",
   "execution_count": 130,
   "id": "69f77af2",
   "metadata": {},
   "outputs": [],
   "source": [
    "programmers = pd.read_csv(\"./course-files/StackOverflowDeveloperSurvey2018.csv\", low_memory=False, usecols=['ConvertedSalary'], squeeze=True)"
   ]
  },
  {
   "cell_type": "code",
   "execution_count": 131,
   "id": "26f75127",
   "metadata": {},
   "outputs": [
    {
     "data": {
      "text/plain": [
       "95780.86178776571"
      ]
     },
     "execution_count": 131,
     "metadata": {},
     "output_type": "execute_result"
    }
   ],
   "source": [
    "programmers.mean()"
   ]
  },
  {
   "cell_type": "code",
   "execution_count": 132,
   "id": "905bf96f",
   "metadata": {},
   "outputs": [
    {
     "data": {
      "text/plain": [
       "55075.0"
      ]
     },
     "execution_count": 132,
     "metadata": {},
     "output_type": "execute_result"
    }
   ],
   "source": [
    "programmers.median()"
   ]
  },
  {
   "cell_type": "code",
   "execution_count": 133,
   "id": "9e7949b0",
   "metadata": {},
   "outputs": [
    {
     "data": {
      "text/plain": [
       "202348.21562528735"
      ]
     },
     "execution_count": 133,
     "metadata": {},
     "output_type": "execute_result"
    }
   ],
   "source": [
    "programmers.std()"
   ]
  },
  {
   "cell_type": "code",
   "execution_count": 134,
   "id": "c6c18509",
   "metadata": {},
   "outputs": [
    {
     "data": {
      "text/plain": [
       "2000000.0"
      ]
     },
     "execution_count": 134,
     "metadata": {},
     "output_type": "execute_result"
    }
   ],
   "source": [
    "programmers.max()"
   ]
  },
  {
   "cell_type": "code",
   "execution_count": 135,
   "id": "caf67660",
   "metadata": {},
   "outputs": [
    {
     "data": {
      "text/plain": [
       "Title\n",
       "Walmart               2300000\n",
       "Berkshire Hathaway     367700\n",
       "Apple                  116000\n",
       "Exxon Mobil             72700\n",
       "McKesson                68000\n",
       "Name: Employees, dtype: int64"
      ]
     },
     "execution_count": 135,
     "metadata": {},
     "output_type": "execute_result"
    }
   ],
   "source": [
    "fortune500 = pd.read_csv(\"./course-files/Fortune_500_2017.csv\", usecols=['Employees','Title'],index_col='Title',squeeze=True)\n",
    "fortune500.head()"
   ]
  },
  {
   "cell_type": "code",
   "execution_count": 136,
   "id": "39ccf11e",
   "metadata": {},
   "outputs": [
    {
     "data": {
      "text/plain": [
       "'Walmart'"
      ]
     },
     "execution_count": 136,
     "metadata": {},
     "output_type": "execute_result"
    }
   ],
   "source": [
    "fortune500.idxmax()"
   ]
  },
  {
   "cell_type": "code",
   "execution_count": 137,
   "id": "f8fcd459",
   "metadata": {},
   "outputs": [
    {
     "data": {
      "text/plain": [
       "2300000"
      ]
     },
     "execution_count": 137,
     "metadata": {},
     "output_type": "execute_result"
    }
   ],
   "source": [
    "fortune500['Walmart']"
   ]
  },
  {
   "cell_type": "code",
   "execution_count": 138,
   "id": "6e773a52",
   "metadata": {},
   "outputs": [
    {
     "data": {
      "text/plain": [
       "'A-Mark Precious Metals'"
      ]
     },
     "execution_count": 138,
     "metadata": {},
     "output_type": "execute_result"
    }
   ],
   "source": [
    "fortune500.idxmin()"
   ]
  },
  {
   "cell_type": "code",
   "execution_count": 139,
   "id": "61cc3a38",
   "metadata": {},
   "outputs": [
    {
     "data": {
      "text/plain": [
       "83"
      ]
     },
     "execution_count": 139,
     "metadata": {},
     "output_type": "execute_result"
    }
   ],
   "source": [
    "fortune500['A-Mark Precious Metals']"
   ]
  },
  {
   "cell_type": "markdown",
   "id": "3347ecee",
   "metadata": {},
   "source": [
    "# Zadanie 15"
   ]
  },
  {
   "cell_type": "code",
   "execution_count": 141,
   "id": "dec09174",
   "metadata": {},
   "outputs": [
    {
     "data": {
      "text/plain": [
       "2     113750.0\n",
       "14    100000.0\n",
       "17    130000.0\n",
       "18     82500.0\n",
       "22    100764.0\n",
       "Name: Salary, dtype: float64"
      ]
     },
     "execution_count": 141,
     "metadata": {},
     "output_type": "execute_result"
    }
   ],
   "source": [
    "surveys = pd.read_csv(\"./course-files/StackOverflowDeveloperSurvey.csv\",usecols=['Salary'], squeeze=True).dropna()\n",
    "surveys.head()"
   ]
  },
  {
   "cell_type": "code",
   "execution_count": 142,
   "id": "bb2d50c4",
   "metadata": {},
   "outputs": [
    {
     "data": {
      "text/plain": [
       "12891"
      ]
     },
     "execution_count": 142,
     "metadata": {},
     "output_type": "execute_result"
    }
   ],
   "source": [
    "surveys.count()"
   ]
  },
  {
   "cell_type": "code",
   "execution_count": 144,
   "id": "e99fe030",
   "metadata": {},
   "outputs": [],
   "source": [
    "surveysIncrease = surveys * 0.03"
   ]
  },
  {
   "cell_type": "code",
   "execution_count": 145,
   "id": "ef1dbd3f",
   "metadata": {},
   "outputs": [
    {
     "data": {
      "text/plain": [
       "2     117162.50\n",
       "14    103000.00\n",
       "17    133900.00\n",
       "18     84975.00\n",
       "22    103786.92\n",
       "Name: Salary, dtype: float64"
      ]
     },
     "execution_count": 145,
     "metadata": {},
     "output_type": "execute_result"
    }
   ],
   "source": [
    "surveysAfterIncrease = surveys+surveysIncrease\n",
    "surveysAfterIncrease.head()"
   ]
  },
  {
   "cell_type": "code",
   "execution_count": 147,
   "id": "8a3d630d",
   "metadata": {},
   "outputs": [
    {
     "data": {
      "text/plain": [
       "0                 1 - 2 hours\n",
       "1             30 - 59 minutes\n",
       "3        Less than 30 minutes\n",
       "4                 1 - 2 hours\n",
       "5             30 - 59 minutes\n",
       "                 ...         \n",
       "93408             1 - 2 hours\n",
       "93416             3 - 4 hours\n",
       "93435             1 - 2 hours\n",
       "93442    Less than 30 minutes\n",
       "93462             1 - 2 hours\n",
       "Name: HoursOutside, Length: 72024, dtype: object"
      ]
     },
     "execution_count": 147,
     "metadata": {},
     "output_type": "execute_result"
    }
   ],
   "source": [
    "surveysTime = pd.read_csv(\"./course-files/StackOverflowDeveloperSurvey2018.csv\",usecols=['HoursOutside'], squeeze=True,low_memory=False).dropna()\n",
    "surveysTime"
   ]
  },
  {
   "cell_type": "code",
   "execution_count": 148,
   "id": "b21f9e07",
   "metadata": {},
   "outputs": [
    {
     "data": {
      "text/plain": [
       "1 - 2 hours             27788\n",
       "30 - 59 minutes         24002\n",
       "Less than 30 minutes    11223\n",
       "3 - 4 hours              7186\n",
       "Over 4 hours             1825\n",
       "Name: HoursOutside, dtype: int64"
      ]
     },
     "execution_count": 148,
     "metadata": {},
     "output_type": "execute_result"
    }
   ],
   "source": [
    "surveysTime.value_counts()"
   ]
  },
  {
   "cell_type": "code",
   "execution_count": 149,
   "id": "52c57b85",
   "metadata": {},
   "outputs": [
    {
     "data": {
      "text/plain": [
       "0             1 - 2 hours\n",
       "1         30 - 59 minutes\n",
       "3    less than 30 minutes\n",
       "4             1 - 2 hours\n",
       "5         30 - 59 minutes\n",
       "Name: HoursOutside, dtype: object"
      ]
     },
     "execution_count": 149,
     "metadata": {},
     "output_type": "execute_result"
    }
   ],
   "source": [
    "surveysTime = surveysTime.str.lower()\n",
    "surveysTime.head()"
   ]
  },
  {
   "cell_type": "code",
   "execution_count": 150,
   "id": "16588033",
   "metadata": {},
   "outputs": [
    {
     "data": {
      "text/plain": [
       "0             1 - 2 HOURS\n",
       "1         30 - 59 MINUTES\n",
       "3    LESS THAN 30 MINUTES\n",
       "4             1 - 2 HOURS\n",
       "5         30 - 59 MINUTES\n",
       "Name: HoursOutside, dtype: object"
      ]
     },
     "execution_count": 150,
     "metadata": {},
     "output_type": "execute_result"
    }
   ],
   "source": [
    "surveysTime = surveysTime.apply(lambda desc: desc.upper())\n",
    "surveysTime.head()"
   ]
  },
  {
   "cell_type": "code",
   "execution_count": 151,
   "id": "d134d338",
   "metadata": {},
   "outputs": [],
   "source": [
    "def changeDescription(text):\n",
    "    if text == 'LESS THAN 30 MINUTES':\n",
    "        return 'LESS THAN HALFHOUR'\n",
    "    else:\n",
    "        return text"
   ]
  },
  {
   "cell_type": "code",
   "execution_count": 152,
   "id": "2f6ee78e",
   "metadata": {},
   "outputs": [
    {
     "data": {
      "text/plain": [
       "'test'"
      ]
     },
     "execution_count": 152,
     "metadata": {},
     "output_type": "execute_result"
    }
   ],
   "source": [
    "changeDescription('test')"
   ]
  },
  {
   "cell_type": "code",
   "execution_count": 153,
   "id": "96e85441",
   "metadata": {},
   "outputs": [
    {
     "data": {
      "text/plain": [
       "'LESS THAN HALFHOUR'"
      ]
     },
     "execution_count": 153,
     "metadata": {},
     "output_type": "execute_result"
    }
   ],
   "source": [
    "changeDescription('LESS THAN 30 MINUTES')"
   ]
  },
  {
   "cell_type": "code",
   "execution_count": 155,
   "id": "d5860f13",
   "metadata": {},
   "outputs": [
    {
     "data": {
      "text/plain": [
       "0           1 - 2 HOURS\n",
       "1       30 - 59 MINUTES\n",
       "3    LESS THAN HALFHOUR\n",
       "4           1 - 2 HOURS\n",
       "5       30 - 59 MINUTES\n",
       "Name: HoursOutside, dtype: object"
      ]
     },
     "execution_count": 155,
     "metadata": {},
     "output_type": "execute_result"
    }
   ],
   "source": [
    "surveysTime=surveysTime.apply(changeDescription)\n",
    "surveysTime.head()"
   ]
  },
  {
   "cell_type": "markdown",
   "id": "0793adc1",
   "metadata": {},
   "source": [
    "# Zadanie 16"
   ]
  },
  {
   "cell_type": "code",
   "execution_count": 157,
   "id": "08c1f0e6",
   "metadata": {},
   "outputs": [
    {
     "data": {
      "text/plain": [
       "{'PYT001': 'Airbus 320', 'PYT002': 'Boeing 737', 'PYT003': 'Airbus 321'}"
      ]
     },
     "execution_count": 157,
     "metadata": {},
     "output_type": "execute_result"
    }
   ],
   "source": [
    "dicts = {'PYT001':'Airbus 320','PYT002':'Boeing 737','PYT003':'Airbus 321'}\n",
    "dicts"
   ]
  },
  {
   "cell_type": "code",
   "execution_count": 158,
   "id": "80213239",
   "metadata": {},
   "outputs": [
    {
     "data": {
      "text/plain": [
       "PYT001    Airbus 320\n",
       "PYT002    Boeing 737\n",
       "PYT003    Airbus 321\n",
       "dtype: object"
      ]
     },
     "execution_count": 158,
     "metadata": {},
     "output_type": "execute_result"
    }
   ],
   "source": [
    "aircrafts = pd.Series(dicts)\n",
    "aircrafts"
   ]
  },
  {
   "cell_type": "code",
   "execution_count": 159,
   "id": "6e64d1b8",
   "metadata": {},
   "outputs": [
    {
     "data": {
      "text/plain": [
       "['PYT002', 'PYT003', 'PYT002', 'PYT002', 'PYT001']"
      ]
     },
     "execution_count": 159,
     "metadata": {},
     "output_type": "execute_result"
    }
   ],
   "source": [
    "flightsList = []\n",
    "for x in range(100):\n",
    "    flightsList.append(rnd.choice(aircrafts.index))\n",
    "flightsList[:5]    "
   ]
  },
  {
   "cell_type": "code",
   "execution_count": 161,
   "id": "b2333307",
   "metadata": {},
   "outputs": [
    {
     "data": {
      "text/plain": [
       "0    PYT002\n",
       "1    PYT003\n",
       "2    PYT002\n",
       "3    PYT002\n",
       "4    PYT001\n",
       "dtype: object"
      ]
     },
     "execution_count": 161,
     "metadata": {},
     "output_type": "execute_result"
    }
   ],
   "source": [
    "flights = pd.Series(flightsList)\n",
    "flights.head()"
   ]
  },
  {
   "cell_type": "code",
   "execution_count": 163,
   "id": "92c2ae47",
   "metadata": {},
   "outputs": [
    {
     "data": {
      "text/plain": [
       "0    Boeing 737\n",
       "1    Airbus 321\n",
       "2    Boeing 737\n",
       "3    Boeing 737\n",
       "4    Airbus 320\n",
       "dtype: object"
      ]
     },
     "execution_count": 163,
     "metadata": {},
     "output_type": "execute_result"
    }
   ],
   "source": [
    "flights_aircrafts = flights.map(aircrafts)\n",
    "flights_aircrafts.head()"
   ]
  }
 ],
 "metadata": {
  "kernelspec": {
   "display_name": "Python 3 (ipykernel)",
   "language": "python",
   "name": "python3"
  },
  "language_info": {
   "codemirror_mode": {
    "name": "ipython",
    "version": 3
   },
   "file_extension": ".py",
   "mimetype": "text/x-python",
   "name": "python",
   "nbconvert_exporter": "python",
   "pygments_lexer": "ipython3",
   "version": "3.9.7"
  }
 },
 "nbformat": 4,
 "nbformat_minor": 5
}
